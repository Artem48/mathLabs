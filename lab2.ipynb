{
 "cells": [
  {
   "cell_type": "code",
   "execution_count": 1,
   "metadata": {},
   "outputs": [],
   "source": [
    "import numpy as np\n",
    "import random\n",
    "import matplotlib.pyplot as plt\n",
    "random.seed(4444)"
   ]
  },
  {
   "cell_type": "code",
   "execution_count": 2,
   "metadata": {},
   "outputs": [],
   "source": [
    "def get_random_norm_vector(n):\n",
    "    \"\"\"Возвращает нормированный вектор длины n\"\"\"\n",
    "    a = []\n",
    "    norm_sum = 1.0\n",
    "    for i in range(n - 1):\n",
    "        x = random.triangular(0, norm_sum)\n",
    "        norm_sum -= x\n",
    "        a.append(x)\n",
    "    a.append(norm_sum)\n",
    "    a = np.array(a)\n",
    "    np.random.shuffle(a)\n",
    "    return a\n",
    "\n",
    "\n",
    "def get_random_transition_matrix(n):\n",
    "    \"\"\"Возвращает квадратную матрицу размерности n, состояющую из нормированных векторов\"\"\"\n",
    "    g = []\n",
    "    for i in range(n):\n",
    "        g.append(get_random_norm_vector(n))\n",
    "    return np.array(g)\n",
    "\n",
    "\n",
    "def vector_stdev(va, vb):\n",
    "    \"\"\"Среднеквадратическое отклонение между векторами\"\"\"\n",
    "    return np.sqrt(sum((b - a)**2 for b, a in zip(vb, va)))\n",
    "\n",
    "\n",
    "def limit_dist_by_computing(transition_matrix, stationary_dist, eps=1e-5):\n",
    "    \"\"\"Численное нахождение стационарного состояния\"\"\"\n",
    "    m_stationary_dist = stationary_dist ** 2\n",
    "    stdev = vector_stdev(stationary_dist, m_stationary_dist)\n",
    "    std_arr = []\n",
    "    m = 0\n",
    "    while stdev > eps:\n",
    "        m_stationary_dist = stationary_dist @ transition_matrix\n",
    "        m += 1\n",
    "        stdev = vector_stdev(stationary_dist, m_stationary_dist)\n",
    "        std_arr.append(stdev)\n",
    "        stationary_dist = m_stationary_dist\n",
    "    return stationary_dist, m, np.array(std_arr)\n",
    "\n",
    "\n",
    "def limit_dist_by_analytic(transition_matrix):\n",
    "    \"\"\"Аналитическое нахождение стационарного состояния\"\"\"\n",
    "    A = (transition_matrix - np.eye(n)).transpose()\n",
    "    probability_dist = np.ones((1, n))\n",
    "\n",
    "    A = np.vstack((A, probability_dist))\n",
    "    B = np.zeros(n + 1)\n",
    "    B[-1] = 1\n",
    "\n",
    "    p = np.linalg.lstsq(A, B, rcond=1)[0]\n",
    "    return p"
   ]
  },
  {
   "cell_type": "code",
   "execution_count": 3,
   "metadata": {},
   "outputs": [
    {
     "data": {
      "text/plain": [
       "array([[0.009, 0.021, 0.002, 0.511, 0.001, 0.   , 0.362, 0.094],\n",
       "       [0.412, 0.04 , 0.329, 0.01 , 0.132, 0.06 , 0.011, 0.006],\n",
       "       [0.482, 0.004, 0.01 , 0.102, 0.311, 0.01 , 0.063, 0.017],\n",
       "       [0.021, 0.429, 0.334, 0.029, 0.028, 0.023, 0.132, 0.005],\n",
       "       [0.004, 0.   , 0.027, 0.175, 0.448, 0.002, 0.029, 0.314],\n",
       "       [0.013, 0.875, 0.   , 0.005, 0.002, 0.085, 0.001, 0.018],\n",
       "       [0.256, 0.396, 0.007, 0.19 , 0.016, 0.128, 0.002, 0.004],\n",
       "       [0.   , 0.001, 0.022, 0.029, 0.512, 0.188, 0.206, 0.041]])"
      ]
     },
     "execution_count": 3,
     "metadata": {},
     "output_type": "execute_result"
    }
   ],
   "source": [
    "n = 8\n",
    "Markov_matrix = get_random_transition_matrix(n)\n",
    "np.around(Markov_matrix, 3)"
   ]
  },
  {
   "cell_type": "code",
   "execution_count": 4,
   "metadata": {},
   "outputs": [
    {
     "data": {
      "text/plain": [
       "array([0.18 , 0.001, 0.001, 0.041, 0.01 , 0.001, 0.001, 0.766])"
      ]
     },
     "execution_count": 4,
     "metadata": {},
     "output_type": "execute_result"
    }
   ],
   "source": [
    "start_dist_1 = get_random_norm_vector(n)\n",
    "np.around(start_dist_1, 3)"
   ]
  },
  {
   "cell_type": "code",
   "execution_count": 5,
   "metadata": {},
   "outputs": [
    {
     "data": {
      "text/plain": [
       "(array([0.153, 0.159, 0.112, 0.151, 0.188, 0.048, 0.107, 0.082]), 18)"
      ]
     },
     "execution_count": 5,
     "metadata": {},
     "output_type": "execute_result"
    }
   ],
   "source": [
    "finish_dist_1, m, stdarr = limit_dist_by_computing(Markov_matrix, start_dist_1)\n",
    "np.around(finish_dist_1, 3), m"
   ]
  },
  {
   "cell_type": "code",
   "execution_count": 6,
   "metadata": {},
   "outputs": [
    {
     "data": {
      "text/plain": [
       "array([0.006, 0.398, 0.559, 0.003, 0.001, 0.003, 0.007, 0.025])"
      ]
     },
     "execution_count": 6,
     "metadata": {},
     "output_type": "execute_result"
    }
   ],
   "source": [
    "start_dist_2 = get_random_norm_vector(n)\n",
    "np.around(start_dist_2, 3)"
   ]
  },
  {
   "cell_type": "code",
   "execution_count": 7,
   "metadata": {},
   "outputs": [
    {
     "data": {
      "text/plain": [
       "(array([0.153, 0.159, 0.112, 0.151, 0.188, 0.048, 0.107, 0.082]), 18)"
      ]
     },
     "execution_count": 7,
     "metadata": {},
     "output_type": "execute_result"
    }
   ],
   "source": [
    "finish_dist_2, m, stdarr2 = limit_dist_by_computing(Markov_matrix, start_dist_2)\n",
    "np.around(finish_dist_2, 3), m"
   ]
  },
  {
   "cell_type": "code",
   "execution_count": 8,
   "metadata": {},
   "outputs": [
    {
     "data": {
      "image/png": "[encoded data removed]",
      "text/plain": [
       "<Figure size 864x288 with 2 Axes>"
      ]
     },
     "metadata": {
      "needs_background": "light"
     },
     "output_type": "display_data"
    }
   ],
   "source": [
    "fig, (ax1, ax2) = plt.subplots(1, 2, figsize=(12, 4))\n",
    "fig.suptitle('Изменение среднеквадратического отклонения', fontsize=16)\n",
    "ax1.plot(np.arange(0, len(stdarr)), stdarr)\n",
    "ax2.plot(np.arange(0, len(stdarr)), stdarr2)\n",
    "plt.show()"
   ]
  },
  {
   "cell_type": "code",
   "execution_count": 9,
   "metadata": {},
   "outputs": [
    {
     "data": {
      "text/plain": [
       "array([[0.153, 0.159, 0.112, 0.151, 0.188, 0.048, 0.107, 0.082],\n",
       "       [0.153, 0.159, 0.112, 0.151, 0.188, 0.048, 0.107, 0.082],\n",
       "       [0.153, 0.159, 0.112, 0.151, 0.188, 0.048, 0.107, 0.082],\n",
       "       [0.153, 0.159, 0.112, 0.151, 0.188, 0.048, 0.107, 0.082],\n",
       "       [0.153, 0.159, 0.112, 0.151, 0.188, 0.048, 0.107, 0.082],\n",
       "       [0.153, 0.159, 0.112, 0.151, 0.188, 0.048, 0.107, 0.082],\n",
       "       [0.153, 0.159, 0.112, 0.151, 0.188, 0.048, 0.107, 0.082],\n",
       "       [0.153, 0.159, 0.112, 0.151, 0.188, 0.048, 0.107, 0.082]])"
      ]
     },
     "execution_count": 9,
     "metadata": {},
     "output_type": "execute_result"
    }
   ],
   "source": [
    "np.around(np.linalg.matrix_power(Markov_matrix, 36), 3)"
   ]
  },
  {
   "cell_type": "code",
   "execution_count": 10,
   "metadata": {},
   "outputs": [
    {
     "data": {
      "text/plain": [
       "array([0.153, 0.159, 0.112, 0.151, 0.188, 0.048, 0.107, 0.082])"
      ]
     },
     "execution_count": 10,
     "metadata": {},
     "output_type": "execute_result"
    }
   ],
   "source": [
    "np.around(limit_dist_by_analytic(Markov_matrix), 3)"
   ]
  },
  {
   "cell_type": "code",
   "execution_count": null,
   "metadata": {},
   "outputs": [],
   "source": []
  }
 ],
 "metadata": {
  "kernelspec": {
   "display_name": "Python 3",
   "language": "python",
   "name": "python3"
  },
  "language_info": {
   "codemirror_mode": {
    "name": "ipython",
    "version": 3
   },
   "file_extension": ".py",
   "mimetype": "text/x-python",
   "name": "python",
   "nbconvert_exporter": "python",
   "pygments_lexer": "ipython3",
   "version": "3.7.3"
  }
 },
 "nbformat": 4,
 "nbformat_minor": 2
}
